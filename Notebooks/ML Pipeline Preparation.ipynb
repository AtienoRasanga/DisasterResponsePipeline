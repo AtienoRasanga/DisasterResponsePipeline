{
 "cells": [
  {
   "cell_type": "markdown",
   "metadata": {},
   "source": [
    "# ML Pipeline Preparation\n",
    "Follow the instructions below to help you create your ML pipeline.\n",
    "### 1. Import libraries and load data from database.\n",
    "- Import Python libraries\n",
    "- Load dataset from database with [`read_sql_table`](https://pandas.pydata.org/pandas-docs/stable/generated/pandas.read_sql_table.html)\n",
    "- Define feature and target variables X and Y"
   ]
  },
  {
   "cell_type": "code",
   "execution_count": 1,
   "metadata": {},
   "outputs": [
    {
     "name": "stdout",
     "output_type": "stream",
     "text": [
      "[nltk_data] Downloading package punkt to /root/nltk_data...\n",
      "[nltk_data]   Unzipping tokenizers/punkt.zip.\n",
      "[nltk_data] Downloading package wordnet to /root/nltk_data...\n",
      "[nltk_data]   Unzipping corpora/wordnet.zip.\n",
      "[nltk_data] Downloading package averaged_perceptron_tagger to\n",
      "[nltk_data]     /root/nltk_data...\n",
      "[nltk_data]   Unzipping taggers/averaged_perceptron_tagger.zip.\n",
      "[nltk_data] Downloading package stopwords to /root/nltk_data...\n",
      "[nltk_data]   Unzipping corpora/stopwords.zip.\n"
     ]
    }
   ],
   "source": [
    "# import libraries\n",
    "import nltk\n",
    "nltk.download(['punkt', 'wordnet', 'averaged_perceptron_tagger','stopwords'])\n",
    "\n",
    "import re\n",
    "import numpy as np\n",
    "import pandas as pd\n",
    "from nltk.tokenize import word_tokenize\n",
    "from nltk.stem import WordNetLemmatizer\n",
    "from nltk.corpus import stopwords\n",
    "from sklearn.model_selection import GridSearchCV\n",
    "from sklearn.ensemble import RandomForestClassifier\n",
    "from sklearn.model_selection import train_test_split\n",
    "from sklearn.pipeline import Pipeline, FeatureUnion\n",
    "from sklearn.base import BaseEstimator, TransformerMixin\n",
    "from sklearn.feature_extraction.text import CountVectorizer, TfidfTransformer\n",
    "from sklearn.multioutput import MultiOutputClassifier\n",
    "from sklearn.metrics import classification_report\n",
    "from sqlalchemy import create_engine\n",
    "import sqlalchemy as db\n",
    "import string\n",
    "import pickle"
   ]
  },
  {
   "cell_type": "code",
   "execution_count": 20,
   "metadata": {},
   "outputs": [],
   "source": [
    "# load data from database\n",
    "engine = create_engine('sqlite:///DisasterResponse.db')\n",
    "df = pd.read_sql_table(\"DisasterResponse1\",con=engine)\n",
    "df = df[df['related'].notna()]\n",
    "X = df['message'].values\n",
    "Y = df.iloc[:,4:]\n",
    "\n"
   ]
  },
  {
   "cell_type": "markdown",
   "metadata": {},
   "source": [
    "### 2. Write a tokenization function to process your text data"
   ]
  },
  {
   "cell_type": "code",
   "execution_count": 35,
   "metadata": {},
   "outputs": [],
   "source": [
    "\n",
    "def tokenize(text):\n",
    "    text = str(text)\n",
    "    detected_urls = re.findall('http[s]?://(?:[a-zA-Z]|[0-9]|[$-_@.&+]|[!*\\(\\),]|(?:%[0-9a-fA-F][0-9a-fA-F]))+', text)\n",
    "    for url in detected_urls:\n",
    "        text = text.replace(url, \"urlplaceholder\")\n",
    "\n",
    "    tokens = word_tokenize(text)\n",
    "    stop_words = set(stopwords.words('english'))\n",
    "\n",
    "    fil_tokens = [w for w in tokens if not w in stop_words]\n",
    "    lemmatizer = WordNetLemmatizer()\n",
    "\n",
    "    clean_tokens = []\n",
    "    for tok in fil_tokens:\n",
    "        clean_tok = lemmatizer.lemmatize(tok).lower().strip()\n",
    "        clean_tokens.append(clean_tok)\n",
    "\n",
    "    return clean_tokens"
   ]
  },
  {
   "cell_type": "markdown",
   "metadata": {},
   "source": [
    "### 3. Build a machine learning pipeline\n",
    "This machine pipeline should take in the `message` column as input and output classification results on the other 36 categories in the dataset. You may find the [MultiOutputClassifier](http://scikit-learn.org/stable/modules/generated/sklearn.multioutput.MultiOutputClassifier.html) helpful for predicting multiple target variables."
   ]
  },
  {
   "cell_type": "code",
   "execution_count": 36,
   "metadata": {},
   "outputs": [],
   "source": [
    "pipeline = Pipeline([\n",
    "        ('vect', CountVectorizer(tokenizer=tokenize)),\n",
    "        ('tfidf', TfidfTransformer()),\n",
    "        ('clf', MultiOutputClassifier(RandomForestClassifier()))\n",
    "    ])"
   ]
  },
  {
   "cell_type": "markdown",
   "metadata": {},
   "source": [
    "### 4. Train pipeline\n",
    "- Split data into train and test sets\n",
    "- Train pipeline"
   ]
  },
  {
   "cell_type": "code",
   "execution_count": 37,
   "metadata": {},
   "outputs": [
    {
     "data": {
      "text/plain": [
       "Pipeline(memory=None,\n",
       "     steps=[('vect', CountVectorizer(analyzer='word', binary=False, decode_error='strict',\n",
       "        dtype=<class 'numpy.int64'>, encoding='utf-8', input='content',\n",
       "        lowercase=True, max_df=1.0, max_features=None, min_df=1,\n",
       "        ngram_range=(1, 1), preprocessor=None, stop_words=None,\n",
       "        strip...oob_score=False, random_state=None, verbose=0,\n",
       "            warm_start=False),\n",
       "           n_jobs=1))])"
      ]
     },
     "execution_count": 37,
     "metadata": {},
     "output_type": "execute_result"
    }
   ],
   "source": [
    "X_train, X_test, y_train, y_test= train_test_split(X, Y)\n",
    "pipeline.fit(X_train, y_train)"
   ]
  },
  {
   "cell_type": "code",
   "execution_count": 38,
   "metadata": {},
   "outputs": [
    {
     "data": {
      "text/plain": [
       "0.69386924446705678"
      ]
     },
     "execution_count": 38,
     "metadata": {},
     "output_type": "execute_result"
    }
   ],
   "source": [
    "pipeline.score(X_train, y_train)"
   ]
  },
  {
   "cell_type": "markdown",
   "metadata": {},
   "source": [
    "### 5. Test your model\n",
    "Report the f1 score, precision and recall for each output category of the dataset. You can do this by iterating through the columns and calling sklearn's `classification_report` on each."
   ]
  },
  {
   "cell_type": "code",
   "execution_count": 30,
   "metadata": {},
   "outputs": [
    {
     "name": "stdout",
     "output_type": "stream",
     "text": [
      "Category: related \n",
      "              precision    recall  f1-score   support\n",
      "\n",
      "        0.0       0.33      0.11      0.17      1522\n",
      "        1.0       0.77      0.93      0.84      4978\n",
      "        2.0       0.00      0.00      0.00        52\n",
      "\n",
      "avg / total       0.66      0.73      0.68      6552\n",
      "\n",
      "Category: request \n",
      "              precision    recall  f1-score   support\n",
      "\n",
      "        0.0       0.83      0.98      0.90      5400\n",
      "        1.0       0.43      0.07      0.12      1152\n",
      "\n",
      "avg / total       0.76      0.82      0.76      6552\n",
      "\n",
      "Category: offer \n",
      "              precision    recall  f1-score   support\n",
      "\n",
      "        0.0       1.00      1.00      1.00      6525\n",
      "        1.0       0.00      0.00      0.00        27\n",
      "\n",
      "avg / total       0.99      1.00      0.99      6552\n",
      "\n",
      "Category: aid_related \n",
      "              precision    recall  f1-score   support\n",
      "\n",
      "        0.0       0.60      0.82      0.69      3857\n",
      "        1.0       0.45      0.20      0.28      2695\n",
      "\n",
      "avg / total       0.53      0.57      0.52      6552\n",
      "\n",
      "Category: medical_help \n",
      "              precision    recall  f1-score   support\n",
      "\n",
      "        0.0       0.92      1.00      0.96      6017\n",
      "        1.0       0.00      0.00      0.00       535\n",
      "\n",
      "avg / total       0.84      0.91      0.88      6552\n",
      "\n",
      "Category: medical_products \n",
      "              precision    recall  f1-score   support\n",
      "\n",
      "        0.0       0.95      1.00      0.97      6232\n",
      "        1.0       0.15      0.01      0.02       320\n",
      "\n",
      "avg / total       0.91      0.95      0.93      6552\n",
      "\n",
      "Category: search_and_rescue \n",
      "              precision    recall  f1-score   support\n",
      "\n",
      "        0.0       0.97      1.00      0.99      6378\n",
      "        1.0       0.00      0.00      0.00       174\n",
      "\n",
      "avg / total       0.95      0.97      0.96      6552\n",
      "\n",
      "Category: security \n",
      "              precision    recall  f1-score   support\n",
      "\n",
      "        0.0       0.98      1.00      0.99      6441\n",
      "        1.0       0.00      0.00      0.00       111\n",
      "\n",
      "avg / total       0.97      0.98      0.97      6552\n",
      "\n",
      "Category: military \n",
      "              precision    recall  f1-score   support\n",
      "\n",
      "        0.0       0.97      1.00      0.98      6348\n",
      "        1.0       0.00      0.00      0.00       204\n",
      "\n",
      "avg / total       0.94      0.97      0.95      6552\n",
      "\n",
      "Category: child_alone \n",
      "              precision    recall  f1-score   support\n",
      "\n",
      "        0.0       1.00      1.00      1.00      6552\n",
      "\n",
      "avg / total       1.00      1.00      1.00      6552\n",
      "\n",
      "Category: water \n",
      "              precision    recall  f1-score   support\n",
      "\n",
      "        0.0       0.94      1.00      0.97      6132\n",
      "        1.0       0.00      0.00      0.00       420\n",
      "\n",
      "avg / total       0.88      0.93      0.90      6552\n",
      "\n",
      "Category: food \n",
      "              precision    recall  f1-score   support\n",
      "\n",
      "        0.0       0.89      1.00      0.94      5827\n",
      "        1.0       0.17      0.01      0.01       725\n",
      "\n",
      "avg / total       0.81      0.89      0.84      6552\n",
      "\n",
      "Category: shelter \n",
      "              precision    recall  f1-score   support\n",
      "\n",
      "        0.0       0.91      1.00      0.95      5968\n",
      "        1.0       0.14      0.01      0.01       584\n",
      "\n",
      "avg / total       0.84      0.91      0.87      6552\n",
      "\n",
      "Category: clothing \n",
      "              precision    recall  f1-score   support\n",
      "\n",
      "        0.0       0.98      1.00      0.99      6440\n",
      "        1.0       0.25      0.01      0.02       112\n",
      "\n",
      "avg / total       0.97      0.98      0.97      6552\n",
      "\n",
      "Category: money \n",
      "              precision    recall  f1-score   support\n",
      "\n",
      "        0.0       0.98      1.00      0.99      6412\n",
      "        1.0       0.00      0.00      0.00       140\n",
      "\n",
      "avg / total       0.96      0.98      0.97      6552\n",
      "\n",
      "Category: missing_people \n",
      "              precision    recall  f1-score   support\n",
      "\n",
      "        0.0       0.99      1.00      0.99      6486\n",
      "        1.0       0.00      0.00      0.00        66\n",
      "\n",
      "avg / total       0.98      0.99      0.98      6552\n",
      "\n",
      "Category: refugees \n",
      "              precision    recall  f1-score   support\n",
      "\n",
      "        0.0       0.97      1.00      0.98      6340\n",
      "        1.0       0.00      0.00      0.00       212\n",
      "\n",
      "avg / total       0.94      0.97      0.95      6552\n",
      "\n",
      "Category: death \n",
      "              precision    recall  f1-score   support\n",
      "\n",
      "        0.0       0.95      1.00      0.98      6252\n",
      "        1.0       0.40      0.01      0.01       300\n",
      "\n",
      "avg / total       0.93      0.95      0.93      6552\n",
      "\n",
      "Category: other_aid \n",
      "              precision    recall  f1-score   support\n",
      "\n",
      "        0.0       0.87      0.99      0.93      5714\n",
      "        1.0       0.20      0.02      0.03       838\n",
      "\n",
      "avg / total       0.79      0.87      0.81      6552\n",
      "\n",
      "Category: infrastructure_related \n",
      "              precision    recall  f1-score   support\n",
      "\n",
      "        0.0       0.94      1.00      0.97      6133\n",
      "        1.0       0.22      0.00      0.01       419\n",
      "\n",
      "avg / total       0.89      0.94      0.91      6552\n",
      "\n",
      "Category: transport \n",
      "              precision    recall  f1-score   support\n",
      "\n",
      "        0.0       0.95      1.00      0.98      6252\n",
      "        1.0       0.08      0.00      0.01       300\n",
      "\n",
      "avg / total       0.91      0.95      0.93      6552\n",
      "\n",
      "Category: buildings \n",
      "              precision    recall  f1-score   support\n",
      "\n",
      "        0.0       0.95      1.00      0.97      6245\n",
      "        1.0       0.09      0.01      0.02       307\n",
      "\n",
      "avg / total       0.91      0.95      0.93      6552\n",
      "\n",
      "Category: electricity \n",
      "              precision    recall  f1-score   support\n",
      "\n",
      "        0.0       0.98      1.00      0.99      6417\n",
      "        1.0       0.00      0.00      0.00       135\n",
      "\n",
      "avg / total       0.96      0.98      0.97      6552\n",
      "\n",
      "Category: tools \n",
      "              precision    recall  f1-score   support\n",
      "\n",
      "        0.0       0.99      1.00      1.00      6511\n",
      "        1.0       0.00      0.00      0.00        41\n",
      "\n",
      "avg / total       0.99      0.99      0.99      6552\n",
      "\n",
      "Category: hospitals \n",
      "              precision    recall  f1-score   support\n",
      "\n",
      "        0.0       0.99      1.00      0.99      6475\n",
      "        1.0       0.00      0.00      0.00        77\n",
      "\n",
      "avg / total       0.98      0.99      0.98      6552\n",
      "\n",
      "Category: shops \n",
      "              precision    recall  f1-score   support\n",
      "\n",
      "        0.0       1.00      1.00      1.00      6527\n",
      "        1.0       0.00      0.00      0.00        25\n",
      "\n",
      "avg / total       0.99      1.00      0.99      6552\n",
      "\n",
      "Category: aid_centers \n",
      "              precision    recall  f1-score   support\n",
      "\n",
      "        0.0       0.99      1.00      0.99      6477\n",
      "        1.0       0.00      0.00      0.00        75\n",
      "\n",
      "avg / total       0.98      0.99      0.98      6552\n",
      "\n",
      "Category: other_infrastructure \n",
      "              precision    recall  f1-score   support\n",
      "\n",
      "        0.0       0.96      1.00      0.98      6280\n",
      "        1.0       0.20      0.01      0.01       272\n",
      "\n",
      "avg / total       0.93      0.96      0.94      6552\n",
      "\n",
      "Category: weather_related \n",
      "              precision    recall  f1-score   support\n",
      "\n",
      "        0.0       0.75      0.95      0.84      4784\n",
      "        1.0       0.53      0.14      0.22      1768\n",
      "\n",
      "avg / total       0.69      0.73      0.67      6552\n",
      "\n",
      "Category: floods \n",
      "              precision    recall  f1-score   support\n",
      "\n",
      "        0.0       0.92      1.00      0.96      6038\n",
      "        1.0       0.30      0.01      0.01       514\n",
      "\n",
      "avg / total       0.87      0.92      0.88      6552\n",
      "\n",
      "Category: storm \n",
      "              precision    recall  f1-score   support\n",
      "\n",
      "        0.0       0.92      0.99      0.95      5989\n",
      "        1.0       0.38      0.04      0.07       563\n",
      "\n",
      "avg / total       0.87      0.91      0.88      6552\n",
      "\n",
      "Category: fire \n",
      "              precision    recall  f1-score   support\n",
      "\n",
      "        0.0       0.99      1.00      0.99      6481\n",
      "        1.0       0.00      0.00      0.00        71\n",
      "\n",
      "avg / total       0.98      0.99      0.98      6552\n",
      "\n",
      "Category: earthquake \n",
      "              precision    recall  f1-score   support\n",
      "\n",
      "        0.0       0.92      0.99      0.95      5937\n",
      "        1.0       0.68      0.16      0.25       615\n",
      "\n",
      "avg / total       0.90      0.91      0.89      6552\n",
      "\n",
      "Category: cold \n",
      "              precision    recall  f1-score   support\n",
      "\n",
      "        0.0       0.98      1.00      0.99      6421\n",
      "        1.0       0.00      0.00      0.00       131\n",
      "\n",
      "avg / total       0.96      0.98      0.97      6552\n",
      "\n",
      "Category: other_weather \n",
      "              precision    recall  f1-score   support\n",
      "\n",
      "        0.0       0.95      1.00      0.97      6209\n",
      "        1.0       0.20      0.01      0.01       343\n",
      "\n",
      "avg / total       0.91      0.95      0.92      6552\n",
      "\n",
      "Category: direct_report \n",
      "              precision    recall  f1-score   support\n",
      "\n",
      "        0.0       0.81      0.97      0.89      5299\n",
      "        1.0       0.36      0.06      0.10      1253\n",
      "\n",
      "avg / total       0.73      0.80      0.74      6552\n",
      "\n"
     ]
    },
    {
     "name": "stderr",
     "output_type": "stream",
     "text": [
      "/opt/conda/lib/python3.6/site-packages/sklearn/metrics/classification.py:1135: UndefinedMetricWarning: Precision and F-score are ill-defined and being set to 0.0 in labels with no predicted samples.\n",
      "  'precision', 'predicted', average, warn_for)\n"
     ]
    }
   ],
   "source": [
    "y_pred = pipeline.predict(X_test)\n",
    "category_names = list(df.columns[4:])\n",
    "\n",
    "for i in range(len(category_names)):\n",
    "    print(\"Category:\", category_names[i],\"\\n\", classification_report(y_test.iloc[:, i].values, y_pred[:, i]))\n"
   ]
  },
  {
   "cell_type": "markdown",
   "metadata": {},
   "source": [
    "### 6. Improve your model\n",
    "Use grid search to find better parameters. "
   ]
  },
  {
   "cell_type": "code",
   "execution_count": null,
   "metadata": {},
   "outputs": [],
   "source": [
    "parameters = {'clf__estimator__n_estimators': [50, 60],\n",
    "                  'clf__estimator__min_samples_split': [2, 3, 4],\n",
    "                  'clf__estimator__criterion': ['entropy', 'gini']\n",
    "                 }\n",
    "cv = GridSearchCV(pipeline, param_grid=parameters)"
   ]
  },
  {
   "cell_type": "markdown",
   "metadata": {},
   "source": [
    "### 7. Test your model\n",
    "Show the accuracy, precision, and recall of the tuned model.  \n",
    "\n",
    "Since this project focuses on code quality, process, and  pipelines, there is no minimum performance metric needed to pass. However, make sure to fine tune your models for accuracy, precision and recall to make your project stand out - especially for your portfolio!"
   ]
  },
  {
   "cell_type": "code",
   "execution_count": null,
   "metadata": {},
   "outputs": [],
   "source": [
    "cv.fit(X_train, y_train)\n",
    "y_pred_2 = cv.predict(X_test)\n",
    "for i in range(len(category_names)):\n",
    "    print(\"Category:\", category_names[i],\"\\n\", classification_report(y_test.iloc[:, i].values, y_pred_2[:, i]))\n"
   ]
  },
  {
   "cell_type": "markdown",
   "metadata": {},
   "source": [
    "### 8. Try improving your model further. Here are a few ideas:\n",
    "* try other machine learning algorithms\n",
    "* add other features besides the TF-IDF"
   ]
  },
  {
   "cell_type": "code",
   "execution_count": 34,
   "metadata": {},
   "outputs": [],
   "source": [
    "# save the model to disk\n",
    "filename = 'finalized_model.pkl'\n",
    "pickle.dump(cv, open(filename, 'wb'))"
   ]
  },
  {
   "cell_type": "markdown",
   "metadata": {},
   "source": [
    "### 9. Export your model as a pickle file"
   ]
  },
  {
   "cell_type": "code",
   "execution_count": null,
   "metadata": {},
   "outputs": [],
   "source": []
  },
  {
   "cell_type": "markdown",
   "metadata": {},
   "source": [
    "### 10. Use this notebook to complete `train.py`\n",
    "Use the template file attached in the Resources folder to write a script that runs the steps above to create a database and export a model based on a new dataset specified by the user."
   ]
  },
  {
   "cell_type": "code",
   "execution_count": null,
   "metadata": {},
   "outputs": [],
   "source": []
  }
 ],
 "metadata": {
  "kernelspec": {
   "display_name": "Python 3",
   "language": "python",
   "name": "python3"
  },
  "language_info": {
   "codemirror_mode": {
    "name": "ipython",
    "version": 3
   },
   "file_extension": ".py",
   "mimetype": "text/x-python",
   "name": "python",
   "nbconvert_exporter": "python",
   "pygments_lexer": "ipython3",
   "version": "3.6.3"
  }
 },
 "nbformat": 4,
 "nbformat_minor": 2
}
